{
 "cells": [
  {
   "cell_type": "code",
   "execution_count": 20,
   "id": "29177f02",
   "metadata": {},
   "outputs": [
    {
     "name": "stdout",
     "output_type": "stream",
     "text": [
      "     inpatient_number  body_temperature  pulse  respiration  \\\n",
      "865            746068              37.1     71           20   \n",
      "\n",
      "     systolic_blood_pressure  diastolic_blood_pressure    map  fio2  \\\n",
      "865                      130                        88  102.0    21   \n",
      "\n",
      "     creatinine_enzymatic_method  urea  uric_acid  glomerular_filtration_rate  \\\n",
      "865                         88.8  7.26      379.0                       50.86   \n",
      "\n",
      "     cystatin  white_blood_cell  monocyte_ratio  monocyte_count  \\\n",
      "865      1.51              1.66           0.048            0.08   \n",
      "\n",
      "     red_blood_cell  \\\n",
      "865             2.4   \n",
      "\n",
      "     coefficient_of_variation_of_red_blood_cell_distribution_width  \\\n",
      "865                                               17.0               \n",
      "\n",
      "     standard_deviation_of_red_blood_cell_distribution_width  \\\n",
      "865                                               71.3         \n",
      "\n",
      "     mean_corpuscular_volume  hematocrit  lymphocyte_count  \\\n",
      "865                    119.2       0.286              0.72   \n",
      "\n",
      "     mean_hemoglobin_volume  mean_hemoglobin_concentration  \\\n",
      "865                    39.0                          327.0   \n",
      "\n",
      "     mean_platelet_volume  basophil_ratio  basophil_count  eosinophil_ratio  \\\n",
      "865                  12.6           0.003             0.0             0.007   \n",
      "\n",
      "     eosinophil_count  hemoglobin  platelet  platelet_distribution_width  \\\n",
      "865              0.01        94.0      73.0                         17.2   \n",
      "\n",
      "     platelet_hematocrit  neutrophil_ratio  neutrophil_count  D_dimer  \\\n",
      "865                0.093              0.51              0.85     0.79   \n",
      "\n",
      "     international_normalized_ratio  activated_partial_thromboplastin_time  \\\n",
      "865                            1.09                                   35.8   \n",
      "\n",
      "     thrombin_time  prothrombin_activity  prothrombin_time_ratio  fibrinogen  \\\n",
      "865           19.0                  77.4                     1.1        2.25   \n",
      "\n",
      "     high_sensitivity_troponin  myoglobin  carbon_dioxide_binding_capacity  \\\n",
      "865                      0.032        NaN                             27.0   \n",
      "\n",
      "     calcium  potassium  chloride  sodium  Inorganic_Phosphorus  \\\n",
      "865      2.3       4.12     105.4   144.0                   NaN   \n",
      "\n",
      "     serum_magnesium  creatine_kinase_isoenzyme_to_creatine_kinase  \\\n",
      "865              NaN                                           0.2   \n",
      "\n",
      "     hydroxybutyrate_dehydrogenase_to_lactate_dehydrogenase  \\\n",
      "865                                               0.96        \n",
      "\n",
      "     hydroxybutyrate_dehydrogenase  glutamic_oxaloacetic_transaminase  \\\n",
      "865                          288.0                               30.0   \n",
      "\n",
      "     creatine_kinase  creatine_kinase_isoenzyme  lactate_dehydrogenase  \\\n",
      "865            146.0                       29.8                  301.0   \n",
      "\n",
      "     brain_natriuretic_peptide  high_sensitivity_protein  nucleotidase  \\\n",
      "865                     207.12                       NaN           1.9   \n",
      "\n",
      "     fucosidase  albumin  white_globulin_ratio  cholinesterase  \\\n",
      "865        13.7     43.1                   1.8             NaN   \n",
      "\n",
      "     glutamyltranspeptidase  glutamic_pyruvic_transaminase  \\\n",
      "865                    10.0                           14.0   \n",
      "\n",
      "     glutamic_oxaliplatin  indirect_bilirubin  alkaline_phosphatase  globulin  \\\n",
      "865                   NaN                25.9                  43.0      23.7   \n",
      "\n",
      "     direct_bilirubin  total_bilirubin  total_bile_acid  total_protein  \\\n",
      "865              11.7             37.6              4.7           66.8   \n",
      "\n",
      "     erythrocyte_sedimentation_rate  cholesterol  \\\n",
      "865                             4.0         3.62   \n",
      "\n",
      "     low_density_lipoprotein_cholesterol  triglyceride  \\\n",
      "865                                 0.99          0.36   \n",
      "\n",
      "     high_density_lipoprotein_cholesterol  homocysteine  apolipoprotein_A  \\\n",
      "865                                  1.89           NaN               NaN   \n",
      "\n",
      "     apolipoprotein_B  lipoprotein    pH  standard_residual_base  \\\n",
      "865               NaN          NaN  7.41                    -3.1   \n",
      "\n",
      "     standard_bicarbonate  partial_pressure_of_carbon_dioxide  \\\n",
      "865                  22.3                                35.0   \n",
      "\n",
      "     total_carbon_dioxide  methemoglobin  hematocrit_blood_gas  \\\n",
      "865                  22.6            0.0                  28.0   \n",
      "\n",
      "     reduced_hemoglobin  potassium_ion  chloride_ion  sodium_ion  \\\n",
      "865                 3.4           3.88         108.0       142.5   \n",
      "\n",
      "     glucose_blood_gas  lactate  measured_residual_base  measured_bicarbonate  \\\n",
      "865                4.8      1.3                    -2.6                  21.6   \n",
      "\n",
      "     carboxyhemoglobin  body_temperature_blood_gas  oxygen_saturation  \\\n",
      "865                0.3                        37.0               97.0   \n",
      "\n",
      "     partial_oxygen_pressure  oxyhemoglobin  anion_gap  free_calcium  \\\n",
      "865                     95.0           96.3       16.8          1.11   \n",
      "\n",
      "     total_hemoglobin  \n",
      "865              94.0  \n"
     ]
    }
   ],
   "source": [
    "#Q.33.Retrieve the row with minimum white_blood_cell count using sorting technique.\n",
    "\n",
    "import pandas as pd\n",
    "import numpy as np\n",
    "\n",
    "pd.set_option('display.max_columns', None)\n",
    "\n",
    "xls = pd.ExcelFile('Cardiac_Outcomes.xlsx')\n",
    "\n",
    "df1 = pd.read_excel(xls, 'Labs')\n",
    "\n",
    "result = df1.sort_values(\"white_blood_cell\")\n",
    "\n",
    "print(result.head(1))\n"
   ]
  },
  {
   "cell_type": "code",
   "execution_count": 6,
   "id": "66ae8a8d",
   "metadata": {},
   "outputs": [
    {
     "name": "stdout",
     "output_type": "stream",
     "text": [
      "Enter string for reversal:Python Hackathon\n",
      "Reversed string is: nohtakcaH nohtyP\n"
     ]
    }
   ],
   "source": [
    "#Q.35.find the way to reverse string for given input\n",
    "#(eg: input : This hackathon is about cardiac outcomes: outcomes cardiac about is hackathon This)\n",
    "\n",
    "user_input = input(\"Enter string for reversal:\")\n",
    "reversed_string = user_input[::-1]\n",
    "print(\"Reversed string is: \" + reversed_string)"
   ]
  },
  {
   "cell_type": "code",
   "execution_count": 5,
   "id": "3d838ce9",
   "metadata": {},
   "outputs": [
    {
     "name": "stdout",
     "output_type": "stream",
     "text": [
      "Enter string :numpy ninja\n",
      "Output tuple: ('n', 'u', 'm', 'p', 'y', ' ', 'n', 'i', 'n', 'j', 'a')\n",
      "Length of entered tuple: 11\n"
     ]
    }
   ],
   "source": [
    "#Q.38.find the length of Tuple for any given input (Hint: Input a string from user )\n",
    "\n",
    "user_input = input(\"Enter string :\")\n",
    "user_tuple = tuple(user_input)\n",
    "print(\"Output tuple:\", user_tuple)\n",
    "print(\"Length of entered tuple:\", len(user_tuple))\n"
   ]
  },
  {
   "cell_type": "code",
   "execution_count": 23,
   "id": "eac85a00",
   "metadata": {},
   "outputs": [
    {
     "data": {
      "text/plain": [
       "[723,\n",
       " 789,\n",
       " 778,\n",
       " 486,\n",
       " 550,\n",
       " 534,\n",
       " 422,\n",
       " 480,\n",
       " 542,\n",
       " 437,\n",
       " 730,\n",
       " 398,\n",
       " 403,\n",
       " 684,\n",
       " 489,\n",
       " 535,\n",
       " 340,\n",
       " 264,\n",
       " 306,\n",
       " 735,\n",
       " 444,\n",
       " 671,\n",
       " 312,\n",
       " 710,\n",
       " 655]"
      ]
     },
     "execution_count": 23,
     "metadata": {},
     "output_type": "execute_result"
    }
   ],
   "source": [
    "#Q.40.Select 25 different random values between 200 to 800.\n",
    "\n",
    "import random\n",
    "\n",
    "random.sample(range(200, 800), 25)"
   ]
  },
  {
   "cell_type": "code",
   "execution_count": 2,
   "id": "c61f78ff",
   "metadata": {},
   "outputs": [
    {
     "name": "stdout",
     "output_type": "stream",
     "text": [
      "Enter number of rows for 7 multiplication table:10\n",
      "7 * 1 = 7\n",
      "7 * 2 = 14\n",
      "7 * 3 = 21\n",
      "7 * 4 = 28\n",
      "7 * 5 = 35\n",
      "7 * 6 = 42\n",
      "7 * 7 = 49\n",
      "7 * 8 = 56\n",
      "7 * 9 = 63\n",
      "7 * 10 = 70\n"
     ]
    }
   ],
   "source": [
    "#Q.48.Using loops, create a multiplication table for the number 7\n",
    "\n",
    "multiplier = 7\n",
    "row = int(input(\"Enter number of rows for 7 multiplication table:\"))\n",
    "\n",
    "for i in range(1, row+1):\n",
    "    product = multiplier * i\n",
    "    print(f\"{multiplier} * {i} = {product}\")    \n"
   ]
  },
  {
   "cell_type": "code",
   "execution_count": null,
   "id": "bad0be40",
   "metadata": {},
   "outputs": [],
   "source": []
  }
 ],
 "metadata": {
  "kernelspec": {
   "display_name": "Python 3 (ipykernel)",
   "language": "python",
   "name": "python3"
  },
  "language_info": {
   "codemirror_mode": {
    "name": "ipython",
    "version": 3
   },
   "file_extension": ".py",
   "mimetype": "text/x-python",
   "name": "python",
   "nbconvert_exporter": "python",
   "pygments_lexer": "ipython3",
   "version": "3.11.7"
  }
 },
 "nbformat": 4,
 "nbformat_minor": 5
}
