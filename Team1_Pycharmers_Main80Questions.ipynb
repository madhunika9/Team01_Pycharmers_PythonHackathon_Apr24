{
 "cells": [
  {
   "cell_type": "markdown",
   "id": "d1e1ba63-be22-46aa-bb3c-3616679a3cfe",
   "metadata": {},
   "source": [
    "##                                Importing the Dependies"
   ]
  },
  {
   "cell_type": "markdown",
   "id": "23b7c912-51b9-4fc4-bbac-34b766c4c1ce",
   "metadata": {},
   "source": [
    "<img src= \"CardiacPictureTeam1Pycharmers.jpg\" width=500, height=500>"
   ]
  },
  {
   "cell_type": "code",
   "execution_count": null,
   "id": "ca62af91-836d-4d6f-b8e2-e6deb07b5e12",
   "metadata": {},
   "outputs": [],
   "source": []
  },
  {
   "cell_type": "markdown",
   "id": "1b1b2fdd-5455-42f4-a34d-0a0c5c493b48",
   "metadata": {},
   "source": [
    "## Data Collection and Processing"
   ]
  },
  {
   "cell_type": "code",
   "execution_count": null,
   "id": "a22166ea-ea42-4daa-855f-0a0c2fb25e8c",
   "metadata": {},
   "outputs": [],
   "source": []
  },
  {
   "cell_type": "markdown",
   "id": "07bddcfa-1379-4215-984b-50ada981359b",
   "metadata": {},
   "source": [
    "## Question1 How many patients were registered in each unique occupation?"
   ]
  },
  {
   "cell_type": "code",
   "execution_count": null,
   "id": "afe25e50-0a19-4e8d-b976-a1cbda490b4f",
   "metadata": {},
   "outputs": [],
   "source": []
  },
  {
   "cell_type": "markdown",
   "id": "9302ec3b-44a1-4ea5-bdc0-15479d3febd1",
   "metadata": {},
   "source": [
    "## Question2 Divide GCS scores into slabs of 5 and count the number of patients under each band of score. Show this as any graph of your choice"
   ]
  },
  {
   "cell_type": "code",
   "execution_count": null,
   "id": "7854ca36-e9b4-4135-ba6e-ab7f21d45c21",
   "metadata": {},
   "outputs": [],
   "source": []
  },
  {
   "cell_type": "markdown",
   "id": "21eb5667-5920-4262-b6eb-51db49236ed2",
   "metadata": {},
   "source": [
    "## Question3  Add a calculated column called Discharge date into the Hospitalization_Discharge using the information already available to you"
   ]
  },
  {
   "cell_type": "code",
   "execution_count": null,
   "id": "d01ff00d-41c7-4d00-a895-b80638e9df56",
   "metadata": {},
   "outputs": [],
   "source": []
  },
  {
   "cell_type": "markdown",
   "id": "0fc7582d-42b4-46e7-8d71-52e32017b646",
   "metadata": {},
   "source": [
    "## Question4 What percentage of patients had Biventricular heart failure?"
   ]
  },
  {
   "cell_type": "code",
   "execution_count": null,
   "id": "81f9c872-733b-436c-a0d1-33ffcec315ee",
   "metadata": {},
   "outputs": [],
   "source": []
  },
  {
   "cell_type": "markdown",
   "id": "5fe73bd6-e8c6-49df-bd05-f267cf6e4f1c",
   "metadata": {},
   "source": [
    "## Question5 What is the ratio of patients who were responsive to pain vs responsive to sound?"
   ]
  },
  {
   "cell_type": "code",
   "execution_count": null,
   "id": "57f3b93c-8e1b-46fe-8a9d-03038134ffc7",
   "metadata": {},
   "outputs": [],
   "source": []
  },
  {
   "cell_type": "markdown",
   "id": "3ef00253-9927-4ed7-b031-a786d2414e7c",
   "metadata": {},
   "source": [
    "## Question6 What was the average age group of the patients that had an outcome of 'Alive'?"
   ]
  },
  {
   "cell_type": "code",
   "execution_count": null,
   "id": "65c70de8-2748-4b5e-bb73-313add80ea18",
   "metadata": {},
   "outputs": [],
   "source": []
  },
  {
   "cell_type": "markdown",
   "id": "895e77b1-0184-4186-9dce-dae65ebe7f95",
   "metadata": {},
   "source": [
    "## Question7 Visualize missing data and missing patterns from Demography table using the \"MissingNo\" Library."
   ]
  },
  {
   "cell_type": "code",
   "execution_count": null,
   "id": "45d90cf5-486c-40ab-9f03-305bb918f0dc",
   "metadata": {},
   "outputs": [],
   "source": []
  },
  {
   "cell_type": "markdown",
   "id": "f1258ec8-79ba-43e6-821a-fcd6078f7bf3",
   "metadata": {},
   "source": [
    "## Question8 Create a Waffle chart to show what percentage of total deaths belong to each admission_ward?"
   ]
  },
  {
   "cell_type": "code",
   "execution_count": null,
   "id": "311a7ec6-1d03-4f75-b5bc-45b5a590975b",
   "metadata": {},
   "outputs": [],
   "source": []
  },
  {
   "cell_type": "markdown",
   "id": "1b3e8f9c-90b3-4bc2-8bf5-2d72e5a5ac1f",
   "metadata": {},
   "source": [
    "## Question9 Create any 2 2-D arrays and perform matrix multiplication. Display the resulting array."
   ]
  },
  {
   "cell_type": "code",
   "execution_count": null,
   "id": "941417a9-ecbf-4e43-a00c-8b5707ea9131",
   "metadata": {},
   "outputs": [],
   "source": []
  },
  {
   "cell_type": "markdown",
   "id": "b585fd9a-d959-4c5d-a150-faeb399c902e",
   "metadata": {},
   "source": [
    "## Question10  Display the percentage of missing values in each column in the table labs. Show the distribution as a bar graph"
   ]
  },
  {
   "cell_type": "code",
   "execution_count": null,
   "id": "cfb53dab-a2ae-477a-8df8-38efbf45f9bb",
   "metadata": {},
   "outputs": [],
   "source": []
  },
  {
   "cell_type": "markdown",
   "id": "91d6e390-6350-44e3-b39b-752c0ca7b6fe",
   "metadata": {},
   "source": [
    "## Question11  A valid mobile number is a ten digit number starting with a 7,8 or 9. For every string listed, print \"YES\" if it is a valid\n",
    "## mobile number and \"NO\" if it is not on separate lines. Do not print the quotes. {2,9587456281,1252478965,7397260044}"
   ]
  },
  {
   "cell_type": "code",
   "execution_count": null,
   "id": "2a53a6af-ec3a-4681-bc0b-2da1a9de645f",
   "metadata": {},
   "outputs": [],
   "source": []
  },
  {
   "cell_type": "markdown",
   "id": "cf8ebc32-08e6-46bf-9217-37b2a23a1314",
   "metadata": {},
   "source": [
    "## Question12 If left ventricular end diastolic diameter has a normal range: 3.5 - 5.6 cm, how many patients fall outside that limit and what \n",
    "##is the MAP of most patients with this condition?"
   ]
  },
  {
   "cell_type": "code",
   "execution_count": null,
   "id": "5c0f9115-280a-4298-af53-673f92023977",
   "metadata": {},
   "outputs": [],
   "source": []
  },
  {
   "cell_type": "markdown",
   "id": "140541c1-ab8e-4176-aedc-4db2e916acdb",
   "metadata": {},
   "source": [
    "## Question13 Create a bar chart between lengthofstay and body temperature, classified as: Hypothermia, within range or hyperthermia"
   ]
  },
  {
   "cell_type": "code",
   "execution_count": null,
   "id": "f42fb0b9-4255-47a1-84e3-f9a0bdd0f61b",
   "metadata": {},
   "outputs": [],
   "source": []
  },
  {
   "cell_type": "markdown",
   "id": "f797495c-b8eb-490b-96ba-8043b7d71094",
   "metadata": {},
   "source": [
    "## Question14 Find the list of patients whose DischargeDay is greater than the value given by the user"
   ]
  },
  {
   "cell_type": "code",
   "execution_count": null,
   "id": "14f3e9fa-46b3-4bdf-9ce3-8544075b8628",
   "metadata": {},
   "outputs": [],
   "source": []
  },
  {
   "cell_type": "markdown",
   "id": "d4f599bf-b008-4e18-94d6-1b170e37bd63",
   "metadata": {},
   "source": [
    "## Question15 Display a pie chart of number of patients in each category listed\n",
    "## -death_within_28_days,-re_admission_within_28_days,-death_within_3_months ,\n",
    "## -re_admission_within_3_months,-death_within_6_months,-re_admission_within_6_months,\n",
    "## -return_to_emergency_department_within_6_months"
   ]
  },
  {
   "cell_type": "code",
   "execution_count": null,
   "id": "9b651682-8d66-46b7-b74c-c3368133b8c7",
   "metadata": {},
   "outputs": [],
   "source": []
  },
  {
   "cell_type": "markdown",
   "id": "384750c6-6f01-4926-9051-0df3d6bdc1bd",
   "metadata": {},
   "source": [
    "## Question16 Create a pivot table with myocardial_infarction, congestive_heart_failure,peripheral_vascular_disease as rows and average Uric Acid\n",
    "## and BMI as columns, using melt functions"
   ]
  },
  {
   "cell_type": "code",
   "execution_count": null,
   "id": "8f5ca96e-b184-442a-bcf9-a3843c1b0c3c",
   "metadata": {},
   "outputs": [],
   "source": []
  },
  {
   "cell_type": "markdown",
   "id": "f63c939c-d9e1-4fe4-9c29-1f8d9da4716a",
   "metadata": {},
   "source": [
    "## Question17 Using arrays and loops find the number of patients who were Admitted in the month of November"
   ]
  },
  {
   "cell_type": "code",
   "execution_count": null,
   "id": "8595cf5c-6128-4f00-88a3-b478fbda1404",
   "metadata": {},
   "outputs": [],
   "source": []
  },
  {
   "cell_type": "markdown",
   "id": "ce5f8466-794d-4a7a-b2a0-2c8804e5b23e",
   "metadata": {},
   "source": [
    "## Question18 Create a heatmap on any columns of your choice including at least 1 lab value"
   ]
  },
  {
   "cell_type": "code",
   "execution_count": null,
   "id": "5a810f38-5dab-406c-a7b0-898df929edad",
   "metadata": {},
   "outputs": [],
   "source": []
  },
  {
   "cell_type": "markdown",
   "id": "2598415c-f0d2-435c-be5f-80aa9e85bf06",
   "metadata": {},
   "source": [
    "## Question19 Create a bar chart by making list on Avg BMI and occupation column (with no duplicates) & make the hatchs onto the bar by \n",
    "## using set_hatch() method"
   ]
  },
  {
   "cell_type": "code",
   "execution_count": null,
   "id": "79fe4ae3-8d0d-4f45-8303-832372ccb478",
   "metadata": {},
   "outputs": [],
   "source": []
  },
  {
   "cell_type": "markdown",
   "id": "b296a8e1-d84b-479c-879d-f247e270481f",
   "metadata": {},
   "source": [
    "## Question20 You are given three integers x,y,z representing the dimensions of a cuboid along with an integer n . \n",
    "## Print a list of all possible coordinates given by(i,j,k) on a 3D grid where the sum of i,j,k is not equal to n. \n",
    "## x=1, y=1, z=2, n-3"
   ]
  },
  {
   "cell_type": "code",
   "execution_count": null,
   "id": "0f1fac12-fd25-4cf5-a70f-44a545fbb7c8",
   "metadata": {},
   "outputs": [],
   "source": []
  },
  {
   "cell_type": "markdown",
   "id": "d49f8d3c-0989-4090-95a7-45d8c9e202e0",
   "metadata": {},
   "source": [
    "## Question21 Given the names and grades for each student in a class of students, store them in a nested list and print the name(s) of\n",
    "## any student(s) having the second lowest grade.\n",
    "## python_students = [['Harry', 37.21], ['Berry', 37.21], ['Tina', 37.2], ['Akriti', 41], ['Harsh', 39]]"
   ]
  },
  {
   "cell_type": "code",
   "execution_count": null,
   "id": "ca994233-ad3f-4a39-a915-87846e4c2fdf",
   "metadata": {},
   "outputs": [],
   "source": []
  },
  {
   "cell_type": "markdown",
   "id": "3a0c07c1-28ce-44db-89f7-1841882625d6",
   "metadata": {},
   "source": [
    "## Question22 Which patient was on the most number of prescribed drugs? What was his age and outcome?"
   ]
  },
  {
   "cell_type": "code",
   "execution_count": null,
   "id": "b7e38f3f-f16d-4394-aaf0-13c4d6a67fa2",
   "metadata": {},
   "outputs": [],
   "source": []
  },
  {
   "cell_type": "markdown",
   "id": "58bba597-c6eb-416f-bb8c-9979b61c392c",
   "metadata": {},
   "source": [
    "## Question23 How many patients were prescribed Digoxin?"
   ]
  },
  {
   "cell_type": "code",
   "execution_count": null,
   "id": "0c40714a-97e0-479f-a3b9-0a775a6d49bc",
   "metadata": {},
   "outputs": [],
   "source": []
  },
  {
   "cell_type": "markdown",
   "id": "d9af1ea6-8937-40c6-b11d-9203d171b3e6",
   "metadata": {},
   "source": [
    "## Question24 What columns indicate a prescence of anemia? Create a severity score for anemia and prove or disprove a correlation to Length of stay"
   ]
  },
  {
   "cell_type": "code",
   "execution_count": null,
   "id": "95563ef5-0f7a-4d94-8c2f-4cf350656e78",
   "metadata": {},
   "outputs": [],
   "source": []
  },
  {
   "cell_type": "markdown",
   "id": "9373a5e6-1c8c-4306-8913-befd4e4dbd77",
   "metadata": {},
   "source": [
    "## Question25 Using GCS score, how many patients are considered to be in a coma?"
   ]
  },
  {
   "cell_type": "code",
   "execution_count": null,
   "id": "7df67c39-6cbb-40f0-9480-1c737b7b7c8c",
   "metadata": {},
   "outputs": [],
   "source": []
  },
  {
   "cell_type": "markdown",
   "id": "5c871c8e-f8f1-41e6-9c76-c25f9222fe96",
   "metadata": {},
   "source": [
    "## Question26  Create a column that randomly generates an age between the age group given for each patient. What was the average age of the patients?"
   ]
  },
  {
   "cell_type": "code",
   "execution_count": null,
   "id": "83cafd3f-2da1-4644-aea3-9699c0aecac5",
   "metadata": {},
   "outputs": [],
   "source": []
  },
  {
   "cell_type": "markdown",
   "id": "13d58aab-b93c-4563-abcb-bd9d39e02dd3",
   "metadata": {},
   "source": [
    "## Question27 Using the age column generated in Q.26, calculate year of birth for each patient"
   ]
  },
  {
   "cell_type": "code",
   "execution_count": null,
   "id": "ea63b894-5ba4-4dc1-94e4-2c8290d76606",
   "metadata": {},
   "outputs": [],
   "source": []
  },
  {
   "cell_type": "markdown",
   "id": "c159105c-6e1d-478b-9b0b-338671fd7dc7",
   "metadata": {},
   "source": [
    "## Question28 Store patient number and gender in a dictionary as a pair of values. Show the first 10 values"
   ]
  },
  {
   "cell_type": "code",
   "execution_count": null,
   "id": "a6936d73-c191-4c64-8fa9-0af827d8ab19",
   "metadata": {},
   "outputs": [],
   "source": []
  },
  {
   "cell_type": "markdown",
   "id": "90f8817b-5d98-4179-9fb5-2d8d18f92d01",
   "metadata": {},
   "source": [
    "## Question29 What percentage of those in a coma also have diabetes?"
   ]
  },
  {
   "cell_type": "code",
   "execution_count": null,
   "id": "5e60666d-ea34-4dd7-8938-0f024f185557",
   "metadata": {},
   "outputs": [],
   "source": []
  },
  {
   "cell_type": "markdown",
   "id": "2e1a27f3-13a1-4759-bc16-dd41c91a665a",
   "metadata": {},
   "source": [
    "## Question30 Identify any columns relating to echocardiography and create a severity score for cardiac function. \n",
    "## Compare this outcome and show average severity score for each outcome"
   ]
  },
  {
   "cell_type": "code",
   "execution_count": null,
   "id": "3564f9ae-5c16-4705-85c1-cea33cff4552",
   "metadata": {},
   "outputs": [],
   "source": []
  },
  {
   "cell_type": "markdown",
   "id": "6e1f7977-a229-4bf7-a315-b70b1be5624f",
   "metadata": {},
   "source": [
    "## Question31 Group the days to re-admission into bins and count how many patients were in each bin"
   ]
  },
  {
   "cell_type": "code",
   "execution_count": null,
   "id": "c2a5794f-1be3-4d65-b8d6-b4ca586114d6",
   "metadata": {},
   "outputs": [],
   "source": []
  },
  {
   "cell_type": "markdown",
   "id": "5f5e9d4b-ebaa-43f6-8089-986a5036a559",
   "metadata": {},
   "source": [
    "## Question32Combine admission_ward & admission_way and count the patients under the new group. Create a pie chart and explode the biggest wedge"
   ]
  },
  {
   "cell_type": "code",
   "execution_count": null,
   "id": "476523ae-a56a-4aa7-a225-45d9e7d3d377",
   "metadata": {},
   "outputs": [],
   "source": []
  },
  {
   "cell_type": "markdown",
   "id": "ad370bf0-19b8-41e2-be90-92e1c5bbd7d0",
   "metadata": {},
   "source": [
    "## Question33 Retrieve the row with minimum white_blood_cell count using sorting technique."
   ]
  },
  {
   "cell_type": "code",
   "execution_count": null,
   "id": "86732b04-cd87-4716-88d4-0ed51ee93e50",
   "metadata": {},
   "outputs": [],
   "source": []
  },
  {
   "cell_type": "markdown",
   "id": "73da9860-d9ee-4f1c-a364-371bf22d7ca4",
   "metadata": {},
   "source": [
    "## Question34 get the last letter of discharge_department of patients using RegEX"
   ]
  },
  {
   "cell_type": "code",
   "execution_count": null,
   "id": "7ec070d5-58d4-4a78-bd1e-cb0dcfa31852",
   "metadata": {},
   "outputs": [],
   "source": []
  },
  {
   "cell_type": "markdown",
   "id": "db9ab461-15d1-47a9-b162-979f23297bb5",
   "metadata": {},
   "source": [
    "## Question35 find the way to reverse string for given input (eg: input : This hackathon is about cardiac outcomes: outcomes cardiac about is\n",
    "## hackathon This)"
   ]
  },
  {
   "cell_type": "code",
   "execution_count": null,
   "id": "959c9a78-6eec-45b2-b763-a06aa9a22038",
   "metadata": {},
   "outputs": [],
   "source": []
  },
  {
   "cell_type": "markdown",
   "id": "0d3d8c50-3b0d-4c0f-862b-33f0aa281803",
   "metadata": {},
   "source": [
    "## Question36 Use the QB style library to create any multidimensional arrays.Create a figure object called fig using plt.figure() **\n",
    "## ** Use add_axes to add an axis to the figure canvas at [0,0,1,1]. Call this new axis ax. **\n",
    "## ** Plot (x,y) on that axes and set the labels."
   ]
  },
  {
   "cell_type": "code",
   "execution_count": null,
   "id": "17371356-5369-4435-a53b-0a8dcf301e51",
   "metadata": {},
   "outputs": [],
   "source": []
  },
  {
   "cell_type": "markdown",
   "id": "f44e22ce-1f7f-47aa-9313-257cf3858a0f",
   "metadata": {},
   "source": [
    "## Question37 Using dischargeDay values print even if it even number and odd if it odd number"
   ]
  },
  {
   "cell_type": "code",
   "execution_count": null,
   "id": "c0e6e692-97a5-4b58-9bd4-8aea1da149c9",
   "metadata": {},
   "outputs": [],
   "source": []
  },
  {
   "cell_type": "markdown",
   "id": "62c51ca9-2042-476d-b45c-bf5bc27e752b",
   "metadata": {},
   "source": [
    "## Question38 find the length of Tuple for any given input (Hint: Input a string from user )"
   ]
  },
  {
   "cell_type": "code",
   "execution_count": null,
   "id": "70d921a9-0ef3-444e-874a-eea2a47546c7",
   "metadata": {},
   "outputs": [],
   "source": []
  },
  {
   "cell_type": "markdown",
   "id": "1c3e5edc-1c18-4dd9-a988-646f25b48f8d",
   "metadata": {},
   "source": [
    "## Question39 Create a subplot on x = np.arange(0, 10, 0.1) , y = np.sin(np.pi * x) + x with 2 rows & 2 columns with object oriented approach"
   ]
  },
  {
   "cell_type": "code",
   "execution_count": null,
   "id": "c28f9e30-4dd4-45c0-a54b-40c1440dd572",
   "metadata": {},
   "outputs": [],
   "source": []
  },
  {
   "cell_type": "markdown",
   "id": "8dc3f22a-1eab-4008-97d3-33299fe0af6d",
   "metadata": {},
   "source": [
    "## Question40 Select 25 different random values between 200 to 800."
   ]
  },
  {
   "cell_type": "code",
   "execution_count": null,
   "id": "7810c6bd-7d4c-4a2f-ad1f-6b12629df14c",
   "metadata": {},
   "outputs": [],
   "source": []
  },
  {
   "cell_type": "markdown",
   "id": "755e8e2e-e928-4669-9a25-193b14be44ef",
   "metadata": {},
   "source": [
    "## Question41 Plot the time series of Admission dates with count of patients. The X-Axis should be for every 5 months"
   ]
  },
  {
   "cell_type": "code",
   "execution_count": null,
   "id": "8a65481c-4204-4156-be95-4bf9fe0c3d96",
   "metadata": {},
   "outputs": [],
   "source": []
  },
  {
   "cell_type": "markdown",
   "id": "0c0c52aa-ed2a-4c67-ba90-2e4ae7d24407",
   "metadata": {},
   "source": [
    "## Question42 np.arange(1,21).reshape(4,5), find array slicing to get the elements 1,2,8,19. \n",
    "## When the value is less than 9, print as 0,else print 1"
   ]
  },
  {
   "cell_type": "code",
   "execution_count": null,
   "id": "633b6d2c-63a3-49bc-a575-d387df78c0e4",
   "metadata": {},
   "outputs": [],
   "source": []
  },
  {
   "cell_type": "markdown",
   "id": "1fdba4a0-44a7-4609-8eaa-b5dc6415d883",
   "metadata": {},
   "source": [
    "## Question43 Give Distribution chart of max Killip_grade"
   ]
  },
  {
   "cell_type": "code",
   "execution_count": null,
   "id": "0c2935a4-1d32-4fbb-ab85-34c95b21d189",
   "metadata": {},
   "outputs": [],
   "source": []
  },
  {
   "cell_type": "markdown",
   "id": "25cee577-02ee-4c5d-8621-0ecbe51e67c3",
   "metadata": {},
   "source": [
    "## Question44 Based on Q26 and 27 display all demographic details of patients who are born in year 1945"
   ]
  },
  {
   "cell_type": "code",
   "execution_count": null,
   "id": "0ea74f02-14e5-4956-8563-9822c782834e",
   "metadata": {},
   "outputs": [],
   "source": []
  },
  {
   "cell_type": "markdown",
   "id": "f6969c50-367b-45c6-b7db-5342064e4d6a",
   "metadata": {},
   "source": [
    "## Question45 Create a dataframe with date and time as columns, where the values are the admission time"
   ]
  },
  {
   "cell_type": "code",
   "execution_count": null,
   "id": "ce1d204f-72ba-458a-b351-631de8eb0c64",
   "metadata": {},
   "outputs": [],
   "source": []
  },
  {
   "cell_type": "markdown",
   "id": "812d1ae5-5334-4631-b6e0-a15fad783dc0",
   "metadata": {},
   "source": [
    "## Question46 Convert occupation into numeric by Label encoding"
   ]
  },
  {
   "cell_type": "code",
   "execution_count": null,
   "id": "05c46f90-c7ce-4431-be30-fdd0210fcd43",
   "metadata": {},
   "outputs": [],
   "source": []
  },
  {
   "cell_type": "markdown",
   "id": "5beaeea1-284d-41e6-980d-0d1b6ad9113a",
   "metadata": {},
   "source": [
    "## Question47 Generate a 3x3 Array using Random values between 1to 9 and Fix the values and position in Next Run."
   ]
  },
  {
   "cell_type": "code",
   "execution_count": null,
   "id": "c123050a-d5d5-403c-a88d-8f5c3508c1cb",
   "metadata": {},
   "outputs": [],
   "source": []
  },
  {
   "cell_type": "markdown",
   "id": "314d68c7-890b-4638-93c6-0a530115c6c2",
   "metadata": {},
   "source": [
    "## Question48 Using loops, create a multiplication table for the number 7"
   ]
  },
  {
   "cell_type": "code",
   "execution_count": null,
   "id": "dc83364f-5f4f-4cf7-8718-1f6850d50435",
   "metadata": {},
   "outputs": [],
   "source": []
  },
  {
   "cell_type": "markdown",
   "id": "31f43629-90d6-4c43-aa15-1a4085cdcf55",
   "metadata": {},
   "source": [
    "## Question49 Connect to sql and write a query to find all patients who have a gender of 'Male' ( Attach screenshots for this question)"
   ]
  },
  {
   "cell_type": "code",
   "execution_count": null,
   "id": "7107c22d-b82c-4129-9c37-1dfbd56c7581",
   "metadata": {},
   "outputs": [],
   "source": []
  }
 ],
 "metadata": {
  "kernelspec": {
   "display_name": "Python 3 (ipykernel)",
   "language": "python",
   "name": "python3"
  },
  "language_info": {
   "codemirror_mode": {
    "name": "ipython",
    "version": 3
   },
   "file_extension": ".py",
   "mimetype": "text/x-python",
   "name": "python",
   "nbconvert_exporter": "python",
   "pygments_lexer": "ipython3",
   "version": "3.11.7"
  }
 },
 "nbformat": 4,
 "nbformat_minor": 5
}
