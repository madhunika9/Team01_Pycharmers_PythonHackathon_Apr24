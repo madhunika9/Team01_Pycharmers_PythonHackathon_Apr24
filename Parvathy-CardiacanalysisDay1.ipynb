{
 "cells": [
  {
   "cell_type": "code",
   "execution_count": 27,
   "id": "03ffe3ac-97ff-4a72-9893-934bd234328a",
   "metadata": {},
   "outputs": [],
   "source": [
    "import numpy as np\n",
    "import pandas as pd\n",
    "import seaborn as sns\n",
    "import matplotlib.pyplot as plt\n",
    "from datetime import datetime\n",
    "%matplotlib inline"
   ]
  },
  {
   "cell_type": "code",
   "execution_count": 28,
   "id": "3c9e18fd-931f-4284-9ea2-634faa3834b7",
   "metadata": {},
   "outputs": [],
   "source": [
    "hosdis = pd.read_excel(\"Cardiac_Outcomes.xlsx\",sheet_name = \"Hospitalization_Discharge\")\n",
    "carcomp = pd.read_excel(\"Cardiac_Outcomes.xlsx\",sheet_name = \"CardiacComplications\")\n",
    "response = pd.read_excel(\"Cardiac_Outcomes.xlsx\",sheet_name = \"Responsivenes\")\n",
    "patienthist = pd.read_excel(\"Cardiac_Outcomes.xlsx\",sheet_name = \"PatientHistory\")\n",
    "lab = pd.read_excel(\"Cardiac_Outcomes.xlsx\",sheet_name = \"Labs\")\n",
    "demog = pd.read_excel(\"Cardiac_Outcomes.xlsx\",sheet_name = \"Demography\")\n",
    "pres = pd.read_excel(\"Cardiac_Outcomes.xlsx\",sheet_name = \"Patient_Precriptions\")"
   ]
  },
  {
   "cell_type": "markdown",
   "id": "94e49a99-e331-49b6-9161-325cd8e82abe",
   "metadata": {},
   "source": [
    "#### Labs table"
   ]
  },
  {
   "cell_type": "code",
   "execution_count": 29,
   "id": "65b3ad9d-0660-48d8-93f2-c3cdd34b4edb",
   "metadata": {},
   "outputs": [
    {
     "data": {
      "text/html": [
       "<div>\n",
       "<style scoped>\n",
       "    .dataframe tbody tr th:only-of-type {\n",
       "        vertical-align: middle;\n",
       "    }\n",
       "\n",
       "    .dataframe tbody tr th {\n",
       "        vertical-align: top;\n",
       "    }\n",
       "\n",
       "    .dataframe thead th {\n",
       "        text-align: right;\n",
       "    }\n",
       "</style>\n",
       "<table border=\"1\" class=\"dataframe\">\n",
       "  <thead>\n",
       "    <tr style=\"text-align: right;\">\n",
       "      <th></th>\n",
       "      <th>inpatient_number</th>\n",
       "      <th>body_temperature</th>\n",
       "      <th>pulse</th>\n",
       "      <th>respiration</th>\n",
       "      <th>systolic_blood_pressure</th>\n",
       "      <th>diastolic_blood_pressure</th>\n",
       "      <th>map</th>\n",
       "      <th>fio2</th>\n",
       "      <th>creatinine_enzymatic_method</th>\n",
       "      <th>urea</th>\n",
       "      <th>...</th>\n",
       "      <th>measured_residual_base</th>\n",
       "      <th>measured_bicarbonate</th>\n",
       "      <th>carboxyhemoglobin</th>\n",
       "      <th>body_temperature_blood_gas</th>\n",
       "      <th>oxygen_saturation</th>\n",
       "      <th>partial_oxygen_pressure</th>\n",
       "      <th>oxyhemoglobin</th>\n",
       "      <th>anion_gap</th>\n",
       "      <th>free_calcium</th>\n",
       "      <th>total_hemoglobin</th>\n",
       "    </tr>\n",
       "  </thead>\n",
       "  <tbody>\n",
       "    <tr>\n",
       "      <th>0</th>\n",
       "      <td>857781</td>\n",
       "      <td>36.7</td>\n",
       "      <td>87</td>\n",
       "      <td>19</td>\n",
       "      <td>102</td>\n",
       "      <td>64</td>\n",
       "      <td>76.666667</td>\n",
       "      <td>33</td>\n",
       "      <td>108.3</td>\n",
       "      <td>12.55</td>\n",
       "      <td>...</td>\n",
       "      <td>-2.1</td>\n",
       "      <td>21.2</td>\n",
       "      <td>0.4</td>\n",
       "      <td>37.0</td>\n",
       "      <td>97.0</td>\n",
       "      <td>93.0</td>\n",
       "      <td>95.9</td>\n",
       "      <td>17.8</td>\n",
       "      <td>1.14</td>\n",
       "      <td>125.0</td>\n",
       "    </tr>\n",
       "    <tr>\n",
       "      <th>1</th>\n",
       "      <td>743087</td>\n",
       "      <td>36.8</td>\n",
       "      <td>95</td>\n",
       "      <td>18</td>\n",
       "      <td>150</td>\n",
       "      <td>70</td>\n",
       "      <td>96.666667</td>\n",
       "      <td>33</td>\n",
       "      <td>62.0</td>\n",
       "      <td>4.29</td>\n",
       "      <td>...</td>\n",
       "      <td>NaN</td>\n",
       "      <td>NaN</td>\n",
       "      <td>NaN</td>\n",
       "      <td>NaN</td>\n",
       "      <td>NaN</td>\n",
       "      <td>NaN</td>\n",
       "      <td>NaN</td>\n",
       "      <td>NaN</td>\n",
       "      <td>NaN</td>\n",
       "      <td>NaN</td>\n",
       "    </tr>\n",
       "    <tr>\n",
       "      <th>2</th>\n",
       "      <td>866418</td>\n",
       "      <td>36.5</td>\n",
       "      <td>98</td>\n",
       "      <td>18</td>\n",
       "      <td>102</td>\n",
       "      <td>67</td>\n",
       "      <td>78.666667</td>\n",
       "      <td>33</td>\n",
       "      <td>185.1</td>\n",
       "      <td>15.99</td>\n",
       "      <td>...</td>\n",
       "      <td>NaN</td>\n",
       "      <td>NaN</td>\n",
       "      <td>NaN</td>\n",
       "      <td>NaN</td>\n",
       "      <td>NaN</td>\n",
       "      <td>NaN</td>\n",
       "      <td>NaN</td>\n",
       "      <td>NaN</td>\n",
       "      <td>NaN</td>\n",
       "      <td>NaN</td>\n",
       "    </tr>\n",
       "    <tr>\n",
       "      <th>3</th>\n",
       "      <td>775928</td>\n",
       "      <td>36.0</td>\n",
       "      <td>73</td>\n",
       "      <td>19</td>\n",
       "      <td>110</td>\n",
       "      <td>74</td>\n",
       "      <td>86.000000</td>\n",
       "      <td>33</td>\n",
       "      <td>104.8</td>\n",
       "      <td>8.16</td>\n",
       "      <td>...</td>\n",
       "      <td>NaN</td>\n",
       "      <td>NaN</td>\n",
       "      <td>NaN</td>\n",
       "      <td>NaN</td>\n",
       "      <td>NaN</td>\n",
       "      <td>NaN</td>\n",
       "      <td>NaN</td>\n",
       "      <td>NaN</td>\n",
       "      <td>NaN</td>\n",
       "      <td>NaN</td>\n",
       "    </tr>\n",
       "    <tr>\n",
       "      <th>4</th>\n",
       "      <td>810128</td>\n",
       "      <td>35.0</td>\n",
       "      <td>88</td>\n",
       "      <td>19</td>\n",
       "      <td>134</td>\n",
       "      <td>62</td>\n",
       "      <td>86.000000</td>\n",
       "      <td>33</td>\n",
       "      <td>83.9</td>\n",
       "      <td>6.86</td>\n",
       "      <td>...</td>\n",
       "      <td>NaN</td>\n",
       "      <td>NaN</td>\n",
       "      <td>NaN</td>\n",
       "      <td>NaN</td>\n",
       "      <td>NaN</td>\n",
       "      <td>NaN</td>\n",
       "      <td>NaN</td>\n",
       "      <td>NaN</td>\n",
       "      <td>NaN</td>\n",
       "      <td>NaN</td>\n",
       "    </tr>\n",
       "    <tr>\n",
       "      <th>...</th>\n",
       "      <td>...</td>\n",
       "      <td>...</td>\n",
       "      <td>...</td>\n",
       "      <td>...</td>\n",
       "      <td>...</td>\n",
       "      <td>...</td>\n",
       "      <td>...</td>\n",
       "      <td>...</td>\n",
       "      <td>...</td>\n",
       "      <td>...</td>\n",
       "      <td>...</td>\n",
       "      <td>...</td>\n",
       "      <td>...</td>\n",
       "      <td>...</td>\n",
       "      <td>...</td>\n",
       "      <td>...</td>\n",
       "      <td>...</td>\n",
       "      <td>...</td>\n",
       "      <td>...</td>\n",
       "      <td>...</td>\n",
       "      <td>...</td>\n",
       "    </tr>\n",
       "    <tr>\n",
       "      <th>2003</th>\n",
       "      <td>740689</td>\n",
       "      <td>36.1</td>\n",
       "      <td>117</td>\n",
       "      <td>22</td>\n",
       "      <td>120</td>\n",
       "      <td>80</td>\n",
       "      <td>93.333333</td>\n",
       "      <td>33</td>\n",
       "      <td>115.3</td>\n",
       "      <td>8.72</td>\n",
       "      <td>...</td>\n",
       "      <td>NaN</td>\n",
       "      <td>NaN</td>\n",
       "      <td>NaN</td>\n",
       "      <td>NaN</td>\n",
       "      <td>NaN</td>\n",
       "      <td>NaN</td>\n",
       "      <td>NaN</td>\n",
       "      <td>NaN</td>\n",
       "      <td>NaN</td>\n",
       "      <td>NaN</td>\n",
       "    </tr>\n",
       "    <tr>\n",
       "      <th>2004</th>\n",
       "      <td>734280</td>\n",
       "      <td>36.3</td>\n",
       "      <td>70</td>\n",
       "      <td>21</td>\n",
       "      <td>120</td>\n",
       "      <td>86</td>\n",
       "      <td>97.333333</td>\n",
       "      <td>29</td>\n",
       "      <td>63.1</td>\n",
       "      <td>5.96</td>\n",
       "      <td>...</td>\n",
       "      <td>NaN</td>\n",
       "      <td>NaN</td>\n",
       "      <td>NaN</td>\n",
       "      <td>NaN</td>\n",
       "      <td>NaN</td>\n",
       "      <td>NaN</td>\n",
       "      <td>NaN</td>\n",
       "      <td>NaN</td>\n",
       "      <td>NaN</td>\n",
       "      <td>NaN</td>\n",
       "    </tr>\n",
       "    <tr>\n",
       "      <th>2005</th>\n",
       "      <td>781004</td>\n",
       "      <td>36.8</td>\n",
       "      <td>113</td>\n",
       "      <td>19</td>\n",
       "      <td>135</td>\n",
       "      <td>100</td>\n",
       "      <td>111.666667</td>\n",
       "      <td>33</td>\n",
       "      <td>51.9</td>\n",
       "      <td>4.27</td>\n",
       "      <td>...</td>\n",
       "      <td>NaN</td>\n",
       "      <td>NaN</td>\n",
       "      <td>NaN</td>\n",
       "      <td>NaN</td>\n",
       "      <td>NaN</td>\n",
       "      <td>NaN</td>\n",
       "      <td>NaN</td>\n",
       "      <td>NaN</td>\n",
       "      <td>NaN</td>\n",
       "      <td>NaN</td>\n",
       "    </tr>\n",
       "    <tr>\n",
       "      <th>2006</th>\n",
       "      <td>744870</td>\n",
       "      <td>36.4</td>\n",
       "      <td>134</td>\n",
       "      <td>19</td>\n",
       "      <td>92</td>\n",
       "      <td>72</td>\n",
       "      <td>78.666667</td>\n",
       "      <td>41</td>\n",
       "      <td>191.1</td>\n",
       "      <td>35.87</td>\n",
       "      <td>...</td>\n",
       "      <td>-2.5</td>\n",
       "      <td>18.8</td>\n",
       "      <td>0.3</td>\n",
       "      <td>37.0</td>\n",
       "      <td>96.0</td>\n",
       "      <td>84.0</td>\n",
       "      <td>95.6</td>\n",
       "      <td>21.8</td>\n",
       "      <td>0.94</td>\n",
       "      <td>139.0</td>\n",
       "    </tr>\n",
       "    <tr>\n",
       "      <th>2007</th>\n",
       "      <td>791864</td>\n",
       "      <td>36.3</td>\n",
       "      <td>100</td>\n",
       "      <td>19</td>\n",
       "      <td>142</td>\n",
       "      <td>80</td>\n",
       "      <td>100.666667</td>\n",
       "      <td>33</td>\n",
       "      <td>104.0</td>\n",
       "      <td>9.26</td>\n",
       "      <td>...</td>\n",
       "      <td>NaN</td>\n",
       "      <td>NaN</td>\n",
       "      <td>NaN</td>\n",
       "      <td>NaN</td>\n",
       "      <td>NaN</td>\n",
       "      <td>NaN</td>\n",
       "      <td>NaN</td>\n",
       "      <td>NaN</td>\n",
       "      <td>NaN</td>\n",
       "      <td>NaN</td>\n",
       "    </tr>\n",
       "  </tbody>\n",
       "</table>\n",
       "<p>2008 rows × 107 columns</p>\n",
       "</div>"
      ],
      "text/plain": [
       "      inpatient_number  body_temperature  pulse  respiration  \\\n",
       "0               857781              36.7     87           19   \n",
       "1               743087              36.8     95           18   \n",
       "2               866418              36.5     98           18   \n",
       "3               775928              36.0     73           19   \n",
       "4               810128              35.0     88           19   \n",
       "...                ...               ...    ...          ...   \n",
       "2003            740689              36.1    117           22   \n",
       "2004            734280              36.3     70           21   \n",
       "2005            781004              36.8    113           19   \n",
       "2006            744870              36.4    134           19   \n",
       "2007            791864              36.3    100           19   \n",
       "\n",
       "      systolic_blood_pressure  diastolic_blood_pressure         map  fio2  \\\n",
       "0                         102                        64   76.666667    33   \n",
       "1                         150                        70   96.666667    33   \n",
       "2                         102                        67   78.666667    33   \n",
       "3                         110                        74   86.000000    33   \n",
       "4                         134                        62   86.000000    33   \n",
       "...                       ...                       ...         ...   ...   \n",
       "2003                      120                        80   93.333333    33   \n",
       "2004                      120                        86   97.333333    29   \n",
       "2005                      135                       100  111.666667    33   \n",
       "2006                       92                        72   78.666667    41   \n",
       "2007                      142                        80  100.666667    33   \n",
       "\n",
       "      creatinine_enzymatic_method   urea  ...  measured_residual_base  \\\n",
       "0                           108.3  12.55  ...                    -2.1   \n",
       "1                            62.0   4.29  ...                     NaN   \n",
       "2                           185.1  15.99  ...                     NaN   \n",
       "3                           104.8   8.16  ...                     NaN   \n",
       "4                            83.9   6.86  ...                     NaN   \n",
       "...                           ...    ...  ...                     ...   \n",
       "2003                        115.3   8.72  ...                     NaN   \n",
       "2004                         63.1   5.96  ...                     NaN   \n",
       "2005                         51.9   4.27  ...                     NaN   \n",
       "2006                        191.1  35.87  ...                    -2.5   \n",
       "2007                        104.0   9.26  ...                     NaN   \n",
       "\n",
       "      measured_bicarbonate  carboxyhemoglobin  body_temperature_blood_gas  \\\n",
       "0                     21.2                0.4                        37.0   \n",
       "1                      NaN                NaN                         NaN   \n",
       "2                      NaN                NaN                         NaN   \n",
       "3                      NaN                NaN                         NaN   \n",
       "4                      NaN                NaN                         NaN   \n",
       "...                    ...                ...                         ...   \n",
       "2003                   NaN                NaN                         NaN   \n",
       "2004                   NaN                NaN                         NaN   \n",
       "2005                   NaN                NaN                         NaN   \n",
       "2006                  18.8                0.3                        37.0   \n",
       "2007                   NaN                NaN                         NaN   \n",
       "\n",
       "      oxygen_saturation  partial_oxygen_pressure  oxyhemoglobin  anion_gap  \\\n",
       "0                  97.0                     93.0           95.9       17.8   \n",
       "1                   NaN                      NaN            NaN        NaN   \n",
       "2                   NaN                      NaN            NaN        NaN   \n",
       "3                   NaN                      NaN            NaN        NaN   \n",
       "4                   NaN                      NaN            NaN        NaN   \n",
       "...                 ...                      ...            ...        ...   \n",
       "2003                NaN                      NaN            NaN        NaN   \n",
       "2004                NaN                      NaN            NaN        NaN   \n",
       "2005                NaN                      NaN            NaN        NaN   \n",
       "2006               96.0                     84.0           95.6       21.8   \n",
       "2007                NaN                      NaN            NaN        NaN   \n",
       "\n",
       "      free_calcium  total_hemoglobin  \n",
       "0             1.14             125.0  \n",
       "1              NaN               NaN  \n",
       "2              NaN               NaN  \n",
       "3              NaN               NaN  \n",
       "4              NaN               NaN  \n",
       "...            ...               ...  \n",
       "2003           NaN               NaN  \n",
       "2004           NaN               NaN  \n",
       "2005           NaN               NaN  \n",
       "2006          0.94             139.0  \n",
       "2007           NaN               NaN  \n",
       "\n",
       "[2008 rows x 107 columns]"
      ]
     },
     "execution_count": 29,
     "metadata": {},
     "output_type": "execute_result"
    }
   ],
   "source": [
    "#to show all columns and values in lab\n",
    "lab"
   ]
  },
  {
   "cell_type": "markdown",
   "id": "8fc4722d-f3c5-45e4-a63c-3133cfb9fea6",
   "metadata": {},
   "source": [
    "#### Question18"
   ]
  },
  {
   "cell_type": "code",
   "execution_count": 30,
   "id": "8e02fde6-c6bb-4206-a695-47b4bd682520",
   "metadata": {},
   "outputs": [
    {
     "data": {
      "text/plain": [
       "<Axes: >"
      ]
     },
     "execution_count": 30,
     "metadata": {},
     "output_type": "execute_result"
    },
    {
     "data": {
      "image/png": "[encoded data removed]",
      "text/plain": [
       "<Figure size 2000x1000 with 2 Axes>"
      ]
     },
     "metadata": {},
     "output_type": "display_data"
    }
   ],
   "source": [
    "#ques18 Create a heatmap on any columns of your choice including at least 1 lab value\n",
    "#lab[['inpatient_number'],['body_temperature']]\n",
    "df1=lab.loc[:,['inpatient_number', 'body_temperature','pulse','respiration']]\n",
    "plt.figure(figsize=(20,10))\n",
    "sns.heatmap(df1.corr(),annot=True)"
   ]
  },
  {
   "cell_type": "markdown",
   "id": "a4d300b0-eadd-4d3e-b832-8a6306702384",
   "metadata": {},
   "source": [
    "#### Hospitalization Discharge Table"
   ]
  },
  {
   "cell_type": "markdown",
   "id": "44e30119-f72c-4b8e-a5e0-8300127f32bc",
   "metadata": {},
   "source": [
    "#### Question17"
   ]
  },
  {
   "cell_type": "code",
   "execution_count": 31,
   "id": "dfc5c88a-9c32-4368-92c3-723e52867e9f",
   "metadata": {},
   "outputs": [
    {
     "data": {
      "text/html": [
       "<div>\n",
       "<style scoped>\n",
       "    .dataframe tbody tr th:only-of-type {\n",
       "        vertical-align: middle;\n",
       "    }\n",
       "\n",
       "    .dataframe tbody tr th {\n",
       "        vertical-align: top;\n",
       "    }\n",
       "\n",
       "    .dataframe thead th {\n",
       "        text-align: right;\n",
       "    }\n",
       "</style>\n",
       "<table border=\"1\" class=\"dataframe\">\n",
       "  <thead>\n",
       "    <tr style=\"text-align: right;\">\n",
       "      <th></th>\n",
       "      <th>inpatient_number</th>\n",
       "      <th>Admission_date</th>\n",
       "    </tr>\n",
       "  </thead>\n",
       "  <tbody>\n",
       "    <tr>\n",
       "      <th>0</th>\n",
       "      <td>857781</td>\n",
       "      <td>2017-01-24</td>\n",
       "    </tr>\n",
       "    <tr>\n",
       "      <th>1</th>\n",
       "      <td>743087</td>\n",
       "      <td>2017-05-05</td>\n",
       "    </tr>\n",
       "    <tr>\n",
       "      <th>2</th>\n",
       "      <td>866418</td>\n",
       "      <td>2016-11-18</td>\n",
       "    </tr>\n",
       "    <tr>\n",
       "      <th>3</th>\n",
       "      <td>775928</td>\n",
       "      <td>2017-10-02</td>\n",
       "    </tr>\n",
       "    <tr>\n",
       "      <th>4</th>\n",
       "      <td>810128</td>\n",
       "      <td>2019-11-17</td>\n",
       "    </tr>\n",
       "    <tr>\n",
       "      <th>...</th>\n",
       "      <td>...</td>\n",
       "      <td>...</td>\n",
       "    </tr>\n",
       "    <tr>\n",
       "      <th>2003</th>\n",
       "      <td>740689</td>\n",
       "      <td>2016-02-07</td>\n",
       "    </tr>\n",
       "    <tr>\n",
       "      <th>2004</th>\n",
       "      <td>734280</td>\n",
       "      <td>2017-03-29</td>\n",
       "    </tr>\n",
       "    <tr>\n",
       "      <th>2005</th>\n",
       "      <td>781004</td>\n",
       "      <td>2018-01-22</td>\n",
       "    </tr>\n",
       "    <tr>\n",
       "      <th>2006</th>\n",
       "      <td>744870</td>\n",
       "      <td>2019-11-27</td>\n",
       "    </tr>\n",
       "    <tr>\n",
       "      <th>2007</th>\n",
       "      <td>791864</td>\n",
       "      <td>2017-02-17</td>\n",
       "    </tr>\n",
       "  </tbody>\n",
       "</table>\n",
       "<p>2008 rows × 2 columns</p>\n",
       "</div>"
      ],
      "text/plain": [
       "      inpatient_number Admission_date\n",
       "0               857781     2017-01-24\n",
       "1               743087     2017-05-05\n",
       "2               866418     2016-11-18\n",
       "3               775928     2017-10-02\n",
       "4               810128     2019-11-17\n",
       "...                ...            ...\n",
       "2003            740689     2016-02-07\n",
       "2004            734280     2017-03-29\n",
       "2005            781004     2018-01-22\n",
       "2006            744870     2019-11-27\n",
       "2007            791864     2017-02-17\n",
       "\n",
       "[2008 rows x 2 columns]"
      ]
     },
     "execution_count": 31,
     "metadata": {},
     "output_type": "execute_result"
    }
   ],
   "source": [
    "#ques17Using arrays and loops find the number of patients who were Admitted in the month of November\n",
    "df2=hosdis.loc[:,['inpatient_number', 'Admission_date']]\n",
    "df2"
   ]
  },
  {
   "cell_type": "code",
   "execution_count": 32,
   "id": "6f84da8f-cbed-4d2b-a3ce-d6fdb32b4acb",
   "metadata": {},
   "outputs": [
    {
     "name": "stdout",
     "output_type": "stream",
     "text": [
      "2      2016-11-18\n",
      "4      2019-11-17\n",
      "10     2018-11-18\n",
      "20     2018-11-28\n",
      "21     2019-11-06\n",
      "          ...    \n",
      "1923   2018-11-10\n",
      "1931   2017-11-08\n",
      "1944   2019-11-23\n",
      "1977   2018-11-01\n",
      "2006   2019-11-27\n",
      "Name: Admission_date, Length: 195, dtype: datetime64[ns]\n",
      "Number of patients admitted only in the month of november 195\n"
     ]
    }
   ],
   "source": [
    "#ques17Using arrays and loops find the number of patients who were Admitted in the month of November\n",
    "#filtering novenber month.\n",
    "month1=hosdis['Admission_date'].dt.month\n",
    "novembermonth=hosdis[month1 == 11]['Admission_date']\n",
    "print(novembermonth)\n",
    "dates_array = np.array(novembermonth)\n",
    "print(\"Number of patients admitted only in the month of november\",len(dates_array))"
   ]
  },
  {
   "cell_type": "markdown",
   "id": "113e5c8a-fa5a-41b2-b52b-4c3fc0373704",
   "metadata": {},
   "source": [
    "### Patient Prescriptions Table"
   ]
  },
  {
   "cell_type": "code",
   "execution_count": 33,
   "id": "6afbad9e-ba93-4985-9dfc-344a2eef4c60",
   "metadata": {},
   "outputs": [
    {
     "data": {
      "text/html": [
       "<div>\n",
       "<style scoped>\n",
       "    .dataframe tbody tr th:only-of-type {\n",
       "        vertical-align: middle;\n",
       "    }\n",
       "\n",
       "    .dataframe tbody tr th {\n",
       "        vertical-align: top;\n",
       "    }\n",
       "\n",
       "    .dataframe thead th {\n",
       "        text-align: right;\n",
       "    }\n",
       "</style>\n",
       "<table border=\"1\" class=\"dataframe\">\n",
       "  <thead>\n",
       "    <tr style=\"text-align: right;\">\n",
       "      <th></th>\n",
       "      <th>inpatient_number</th>\n",
       "      <th>Drug_name</th>\n",
       "    </tr>\n",
       "  </thead>\n",
       "  <tbody>\n",
       "    <tr>\n",
       "      <th>0</th>\n",
       "      <td>857781</td>\n",
       "      <td>sulfotanshinone sodium injection</td>\n",
       "    </tr>\n",
       "    <tr>\n",
       "      <th>1</th>\n",
       "      <td>857781</td>\n",
       "      <td>Furosemide tablet</td>\n",
       "    </tr>\n",
       "    <tr>\n",
       "      <th>2</th>\n",
       "      <td>857781</td>\n",
       "      <td>Enoxaparin Sodium injection</td>\n",
       "    </tr>\n",
       "    <tr>\n",
       "      <th>3</th>\n",
       "      <td>857781</td>\n",
       "      <td>Meglumine Adenosine Cyclophosphate for injection</td>\n",
       "    </tr>\n",
       "    <tr>\n",
       "      <th>4</th>\n",
       "      <td>857781</td>\n",
       "      <td>Furosemide injection</td>\n",
       "    </tr>\n",
       "    <tr>\n",
       "      <th>...</th>\n",
       "      <td>...</td>\n",
       "      <td>...</td>\n",
       "    </tr>\n",
       "    <tr>\n",
       "      <th>15365</th>\n",
       "      <td>123456</td>\n",
       "      <td>Furosemide injection</td>\n",
       "    </tr>\n",
       "    <tr>\n",
       "      <th>15366</th>\n",
       "      <td>678910</td>\n",
       "      <td>Deslanoside injection</td>\n",
       "    </tr>\n",
       "    <tr>\n",
       "      <th>15367</th>\n",
       "      <td>678910</td>\n",
       "      <td>Milrinone injection</td>\n",
       "    </tr>\n",
       "    <tr>\n",
       "      <th>15368</th>\n",
       "      <td>678910</td>\n",
       "      <td>Furosemide injection</td>\n",
       "    </tr>\n",
       "    <tr>\n",
       "      <th>15369</th>\n",
       "      <td>678910</td>\n",
       "      <td>Meglumine Adenosine Cyclophosphate for injection</td>\n",
       "    </tr>\n",
       "  </tbody>\n",
       "</table>\n",
       "<p>15370 rows × 2 columns</p>\n",
       "</div>"
      ],
      "text/plain": [
       "       inpatient_number                                         Drug_name\n",
       "0                857781                  sulfotanshinone sodium injection\n",
       "1                857781                                 Furosemide tablet\n",
       "2                857781                       Enoxaparin Sodium injection\n",
       "3                857781  Meglumine Adenosine Cyclophosphate for injection\n",
       "4                857781                              Furosemide injection\n",
       "...                 ...                                               ...\n",
       "15365            123456                              Furosemide injection\n",
       "15366            678910                             Deslanoside injection\n",
       "15367            678910                               Milrinone injection\n",
       "15368            678910                              Furosemide injection\n",
       "15369            678910  Meglumine Adenosine Cyclophosphate for injection\n",
       "\n",
       "[15370 rows x 2 columns]"
      ]
     },
     "execution_count": 33,
     "metadata": {},
     "output_type": "execute_result"
    }
   ],
   "source": [
    "pres"
   ]
  },
  {
   "cell_type": "markdown",
   "id": "9ee94933-e73a-4353-8b19-272c742eaf22",
   "metadata": {},
   "source": [
    "##### Question23"
   ]
  },
  {
   "cell_type": "code",
   "execution_count": 34,
   "id": "d3dfd3d0-7691-4526-a7b2-af2be973a066",
   "metadata": {},
   "outputs": [
    {
     "name": "stdout",
     "output_type": "stream",
     "text": [
      "999 Patients were prescribed digoxin out of total prescribed count 15370\n"
     ]
    }
   ],
   "source": [
    "#23How many patients were prescribed Digoxin?\n",
    "x=len(pres)\n",
    "drugname=pres['Drug_name']\n",
    "digoxin=pres[drugname == 'Digoxin tablet']\n",
    "lengthdia=len(digoxin)\n",
    "print(f'{lengthdia} Patients were prescribed digoxin out of total prescribed count {x}')"
   ]
  },
  {
   "cell_type": "markdown",
   "id": "48635667-bb2c-46ad-9f98-ca5343d39fba",
   "metadata": {},
   "source": [
    "### Demography Table"
   ]
  },
  {
   "cell_type": "code",
   "execution_count": 35,
   "id": "d25a7ebd-e7b5-4a61-af3a-6fe39b77af8f",
   "metadata": {},
   "outputs": [],
   "source": [
    "#19Create a bar chart by making list on Avg BMI and occupation column (with no duplicates) & make the hatchs onto the bar by using set_hatch() method\n"
   ]
  },
  {
   "cell_type": "markdown",
   "id": "80dd7aff-e25a-4ad4-bfc2-bb4d3fca0808",
   "metadata": {},
   "source": [
    "#### Question19"
   ]
  },
  {
   "cell_type": "code",
   "execution_count": 36,
   "id": "57221e4a-1789-4656-8335-712c2ac93099",
   "metadata": {},
   "outputs": [
    {
     "data": {
      "text/plain": [
       "(661,)"
      ]
     },
     "execution_count": 36,
     "metadata": {},
     "output_type": "execute_result"
    }
   ],
   "source": [
    "#removing duplicates from BMI.\n",
    "bmiduplicate=demog['BMI'].drop_duplicates().shape\n",
    "bmiduplicate"
   ]
  },
  {
   "cell_type": "code",
   "execution_count": 37,
   "id": "cddc1d9e-c232-4ce6-b62e-bcd209e501d1",
   "metadata": {},
   "outputs": [
    {
     "data": {
      "text/plain": [
       "(6,)"
      ]
     },
     "execution_count": 37,
     "metadata": {},
     "output_type": "execute_result"
    }
   ],
   "source": [
    "#Removing duplicates from occupation \n",
    "occuduplicate=demog['occupation'].drop_duplicates().shape\n",
    "occuduplicate"
   ]
  },
  {
   "cell_type": "code",
   "execution_count": 45,
   "id": "bee339ca-0f80-440c-8238-c93d81c5d4e1",
   "metadata": {},
   "outputs": [
    {
     "name": "stdout",
     "output_type": "stream",
     "text": [
      "Total BMI Records= 2008\n",
      "Sum of BMI Values with duplicate value= 43757.126271910434\n",
      "Average with duplicate value= 21.791397545772128\n",
      "Total records without duplicates= (661,)\n",
      "Sum of BMI Values without duplicate value= 15247.643025815602\n",
      "Average without duplicates= [23.06753862]\n",
      "occupation without duplicates (6,)\n"
     ]
    },
    {
     "data": {
      "image/png": "[encoded data removed]",
      "text/plain": [
       "<Figure size 640x480 with 1 Axes>"
      ]
     },
     "metadata": {},
     "output_type": "display_data"
    }
   ],
   "source": [
    "#19Create a bar chart by making list on Avg BMI and occupation column (with no duplicates) & make the hatchs onto the bar by using set_hatch() method\n",
    "#finding avg bmi\n",
    "#Total BMI Records\n",
    "totalbmi=len(demog['BMI'])\n",
    "print(\"Total BMI Records=\",totalbmi)\n",
    "#Sum of BMI values with duplicates\n",
    "sumbmidup=demog['BMI'].sum()\n",
    "print(\"Sum of BMI Values with duplicate value=\",sumbmidup)\n",
    "#Average of BMI with Duplicate\n",
    "Avgwithdup=sumbmidup/totalbmi\n",
    "print(\"Average with duplicate value=\",Avgwithdup)\n",
    "#Total Record Count  for bmi without duplicate\n",
    "bmiduplicate=demog['BMI'].drop_duplicates().shape\n",
    "print(\"Total records without duplicates=\",bmiduplicate)\n",
    "#sum of BMI without duplicates\n",
    "sumbmiwithoutdup=(demog['BMI'].drop_duplicates()).sum()\n",
    "print(\"Sum of BMI Values without duplicate value=\",sumbmiwithoutdup)\n",
    "#Average of BMI without Duplicates.\n",
    "avgwithoutdup=sumbmiwithoutdup/bmiduplicate\n",
    "print(\"Average without duplicates=\",avgwithoutdup)\n",
    "\n",
    "print(\"occupation without duplicates\",occuduplicate)\n",
    "data = {\"BMI\": avgwithoutdup, \"OCCUPATION\": occuduplicate}\n",
    "pd.DataFrame(data).plot.bar(color=(\"pink\", \"yellow\"), hatch=(\"/\", \"*\"))\n",
    "plt.show()"
   ]
  },
  {
   "cell_type": "markdown",
   "id": "634be6b9-7a16-46e1-a146-64a1c07b572b",
   "metadata": {},
   "source": [
    "#### Responsivenes Table"
   ]
  },
  {
   "cell_type": "markdown",
   "id": "f3720531-8f1b-4113-9f74-768558421b11",
   "metadata": {},
   "source": [
    "<img src= \"gcsscalepic.png\" width=300, height=300>"
   ]
  },
  {
   "cell_type": "markdown",
   "id": "4d28a6f7-6530-4516-9b2a-824bf6827c26",
   "metadata": {},
   "source": [
    "#### Question25"
   ]
  },
  {
   "cell_type": "code",
   "execution_count": 39,
   "id": "cd8ea913-4478-4b31-8d88-8bea045a0ed3",
   "metadata": {},
   "outputs": [
    {
     "data": {
      "text/plain": [
       "array([15, 11, 13, 12,  3, 10,  6,  7, 14,  4], dtype=int64)"
      ]
     },
     "execution_count": 39,
     "metadata": {},
     "output_type": "execute_result"
    }
   ],
   "source": [
    "#25Using GCS score, how many patients are considered to be in a coma?\n",
    "#To find unique values in GCS Column\n",
    "response['GCS'].unique()"
   ]
  },
  {
   "cell_type": "code",
   "execution_count": 40,
   "id": "cf045d47-4ec2-456c-af04-61da7c5d131f",
   "metadata": {},
   "outputs": [
    {
     "name": "stdout",
     "output_type": "stream",
     "text": [
      "There are 14 patients are considered to be in a coma based on GCS value\n"
     ]
    }
   ],
   "source": [
    "#response[response[\"GCS\"]==4].count()[\"inpatient_number\"]\n",
    "print(f'There are {response[response[\"GCS\"]<=4].count()[\"inpatient_number\"]} patients are considered to be in a coma based on GCS value')"
   ]
  },
  {
   "cell_type": "markdown",
   "id": "e2d15a08-3c87-4de2-b52f-3f2ceb1b4fd7",
   "metadata": {},
   "source": [
    "#### Patient_Prescriptions"
   ]
  },
  {
   "cell_type": "markdown",
   "id": "942bb352-7b34-4ec3-bf37-f5613ed393d1",
   "metadata": {},
   "source": [
    "##### Question 22"
   ]
  },
  {
   "cell_type": "code",
   "execution_count": 41,
   "id": "7917b45d-019f-4dde-8b4f-1b66162cb753",
   "metadata": {},
   "outputs": [
    {
     "name": "stdout",
     "output_type": "stream",
     "text": [
      "inpatient_number\n",
      "777204    16\n",
      "867885    15\n",
      "746487    15\n",
      "766722    15\n",
      "800659    15\n",
      "          ..\n",
      "796480     1\n",
      "822437     1\n",
      "829624     1\n",
      "869886     1\n",
      "753570     1\n",
      "Name: count, Length: 2009, dtype: int64\n"
     ]
    },
    {
     "name": "stderr",
     "output_type": "stream",
     "text": [
      "C:\\Users\\muthu\\AppData\\Local\\Temp\\ipykernel_58684\\524483138.py:3: FutureWarning: pandas.value_counts is deprecated and will be removed in a future version. Use pd.Series(obj).value_counts() instead.\n",
      "  counta = pd.value_counts(pres['inpatient_number'])\n"
     ]
    }
   ],
   "source": [
    "#22.Which patient was on the most number of prescribed drugs? What was his age and outcome?\n",
    "#displaying all the patients patient number with value counts\n",
    "counta = pd.value_counts(pres['inpatient_number'])\n",
    "print(counta)"
   ]
  },
  {
   "cell_type": "code",
   "execution_count": 42,
   "id": "c1b4444f-16ed-469d-ae5a-473af8ddb4cb",
   "metadata": {},
   "outputs": [
    {
     "name": "stdout",
     "output_type": "stream",
     "text": [
      "inpatient_number\n",
      "777204    16\n",
      "Name: count, dtype: int64\n"
     ]
    }
   ],
   "source": [
    "#Diplaying the index o with patient number and  count value\n",
    "print(counta.iloc[[0]])"
   ]
  },
  {
   "cell_type": "code",
   "execution_count": 43,
   "id": "ea5c6844-02d8-4bca-abbf-b052db57d4d7",
   "metadata": {},
   "outputs": [
    {
     "data": {
      "text/html": [
       "<div>\n",
       "<style scoped>\n",
       "    .dataframe tbody tr th:only-of-type {\n",
       "        vertical-align: middle;\n",
       "    }\n",
       "\n",
       "    .dataframe tbody tr th {\n",
       "        vertical-align: top;\n",
       "    }\n",
       "\n",
       "    .dataframe thead th {\n",
       "        text-align: right;\n",
       "    }\n",
       "</style>\n",
       "<table border=\"1\" class=\"dataframe\">\n",
       "  <thead>\n",
       "    <tr style=\"text-align: right;\">\n",
       "      <th></th>\n",
       "      <th>inpatient_number</th>\n",
       "      <th>gender</th>\n",
       "      <th>weight</th>\n",
       "      <th>height</th>\n",
       "      <th>BMI</th>\n",
       "      <th>occupation</th>\n",
       "      <th>ageCat</th>\n",
       "    </tr>\n",
       "  </thead>\n",
       "  <tbody>\n",
       "    <tr>\n",
       "      <th>724</th>\n",
       "      <td>777204</td>\n",
       "      <td>Male</td>\n",
       "      <td>45.0</td>\n",
       "      <td>1.55</td>\n",
       "      <td>18.730489</td>\n",
       "      <td>UrbanResident</td>\n",
       "      <td>79-89</td>\n",
       "    </tr>\n",
       "  </tbody>\n",
       "</table>\n",
       "</div>"
      ],
      "text/plain": [
       "     inpatient_number gender  weight  height        BMI     occupation ageCat\n",
       "724            777204   Male    45.0    1.55  18.730489  UrbanResident  79-89"
      ]
     },
     "execution_count": 43,
     "metadata": {},
     "output_type": "execute_result"
    }
   ],
   "source": [
    "#22.Which patient was on the most number of prescribed drugs? What was his age and outcome?(final solution)\n",
    "demog.loc[demog['inpatient_number']==777204]"
   ]
  },
  {
   "cell_type": "markdown",
   "id": "bcff96fa-bbd7-411a-8c5e-f80ad5bf2a6a",
   "metadata": {},
   "source": [
    "#### Question 31"
   ]
  },
  {
   "cell_type": "code",
   "execution_count": 46,
   "id": "d263d346-3914-45ca-8086-a98756db489d",
   "metadata": {},
   "outputs": [
    {
     "data": {
      "image/png": "[encoded data removed]",
      "text/plain": [
       "<Figure size 640x480 with 1 Axes>"
      ]
     },
     "metadata": {},
     "output_type": "display_data"
    }
   ],
   "source": [
    "#31.Group the days to re-admission into bins and count how many patients were in each bin\n",
    "graph = hosdis.groupby(['readmission_time_days_from_admission'])['inpatient_number'].nunique().sort_values(ascending=False)\n",
    "sns.barplot(y = graph.index, x = graph.values)\n",
    "plt.show()"
   ]
  },
  {
   "cell_type": "code",
   "execution_count": null,
   "id": "4245ef41-8b80-4870-9b8b-b89ab101f0b4",
   "metadata": {},
   "outputs": [],
   "source": []
  }
 ],
 "metadata": {
  "kernelspec": {
   "display_name": "Python 3 (ipykernel)",
   "language": "python",
   "name": "python3"
  },
  "language_info": {
   "codemirror_mode": {
    "name": "ipython",
    "version": 3
   },
   "file_extension": ".py",
   "mimetype": "text/x-python",
   "name": "python",
   "nbconvert_exporter": "python",
   "pygments_lexer": "ipython3",
   "version": "3.11.7"
  }
 },
 "nbformat": 4,
 "nbformat_minor": 5
}
