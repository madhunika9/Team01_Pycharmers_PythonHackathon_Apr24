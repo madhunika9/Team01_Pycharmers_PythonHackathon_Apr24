{
 "cells": [
  {
   "cell_type": "code",
   "execution_count": 3,
   "id": "66ae8a8d",
   "metadata": {},
   "outputs": [
    {
     "name": "stdout",
     "output_type": "stream",
     "text": [
      "Enter string for reversal:Abibarathi Sendhilkumaar\n",
      "Reversed string is: raamuklihdneS ihtarabibA\n"
     ]
    }
   ],
   "source": [
    "#Q.35.find the way to reverse string for given input\n",
    "#(eg: input : This hackathon is about cardiac outcomes: outcomes cardiac about is hackathon This)\n",
    "\n",
    "user_input = input(\"Enter string for reversal:\")\n",
    "reversed_string = user_input[::-1]\n",
    "print(\"Reversed string is: \" + reversed_string)"
   ]
  },
  {
   "cell_type": "code",
   "execution_count": 5,
   "id": "0b5cb9e6",
   "metadata": {},
   "outputs": [
    {
     "name": "stdout",
     "output_type": "stream",
     "text": [
      "Enter string :numpy ninja\n",
      "Output tuple: ('n', 'u', 'm', 'p', 'y', ' ', 'n', 'i', 'n', 'j', 'a')\n",
      "Length of entered tuple: 11\n"
     ]
    }
   ],
   "source": [
    "#Q.38.find the length of Tuple for any given input (Hint: Input a string from user )\n",
    "\n",
    "user_input = input(\"Enter string :\")\n",
    "user_tuple = tuple(user_input)\n",
    "print(\"Output tuple:\", user_tuple)\n",
    "print(\"Length of entered tuple:\", len(user_tuple))\n"
   ]
  },
  {
   "cell_type": "code",
   "execution_count": 2,
   "id": "c61f78ff",
   "metadata": {},
   "outputs": [
    {
     "name": "stdout",
     "output_type": "stream",
     "text": [
      "Enter number of rows for 7 multiplication table:10\n",
      "7 * 1 = 7\n",
      "7 * 2 = 14\n",
      "7 * 3 = 21\n",
      "7 * 4 = 28\n",
      "7 * 5 = 35\n",
      "7 * 6 = 42\n",
      "7 * 7 = 49\n",
      "7 * 8 = 56\n",
      "7 * 9 = 63\n",
      "7 * 10 = 70\n"
     ]
    }
   ],
   "source": [
    "#Q.48.Using loops, create a multiplication table for the number 7\n",
    "\n",
    "multiplier = 7\n",
    "row = int(input(\"Enter number of rows for 7 multiplication table:\"))\n",
    "\n",
    "for i in range(1, row+1):\n",
    "    product = multiplier * i\n",
    "    print(f\"{multiplier} * {i} = {product}\")    \n"
   ]
  },
  {
   "cell_type": "code",
   "execution_count": null,
   "id": "bad0be40",
   "metadata": {},
   "outputs": [],
   "source": []
  }
 ],
 "metadata": {
  "kernelspec": {
   "display_name": "Python 3 (ipykernel)",
   "language": "python",
   "name": "python3"
  },
  "language_info": {
   "codemirror_mode": {
    "name": "ipython",
    "version": 3
   },
   "file_extension": ".py",
   "mimetype": "text/x-python",
   "name": "python",
   "nbconvert_exporter": "python",
   "pygments_lexer": "ipython3",
   "version": "3.11.7"
  }
 },
 "nbformat": 4,
 "nbformat_minor": 5
}
